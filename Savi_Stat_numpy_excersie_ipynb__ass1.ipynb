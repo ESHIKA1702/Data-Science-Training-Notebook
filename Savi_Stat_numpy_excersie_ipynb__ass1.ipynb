{
  "nbformat": 4,
  "nbformat_minor": 0,
  "metadata": {
    "colab": {
      "provenance": [],
      "include_colab_link": true
    },
    "kernelspec": {
      "name": "python3",
      "display_name": "Python 3"
    },
    "language_info": {
      "name": "python"
    }
  },
  "cells": [
    {
      "cell_type": "markdown",
      "metadata": {
        "id": "view-in-github",
        "colab_type": "text"
      },
      "source": [
        "<a href=\"https://colab.research.google.com/github/ESHIKA1702/Data-Science-Training-Notebook/blob/main/Savi_Stat_numpy_excersie_ipynb__ass1.ipynb\" target=\"_parent\"><img src=\"https://colab.research.google.com/assets/colab-badge.svg\" alt=\"Open In Colab\"/></a>"
      ]
    },
    {
      "cell_type": "markdown",
      "source": [
        "1. Run the following cells:"
      ],
      "metadata": {
        "id": "ZuKpRRGcnGpV"
      }
    },
    {
      "cell_type": "code",
      "execution_count": null,
      "metadata": {
        "id": "CxpRyClVnE4s"
      },
      "outputs": [],
      "source": [
        "import numpy as np"
      ]
    },
    {
      "cell_type": "code",
      "source": [
        "np.set_printoptions(suppress = True, linewidth =  150, precision = 2)"
      ],
      "metadata": {
        "id": "omfGS-Conas0"
      },
      "execution_count": null,
      "outputs": []
    },
    {
      "cell_type": "code",
      "source": [
        "array_1d = np.array([10,11,12,13,14])\n",
        "array_1d"
      ],
      "metadata": {
        "colab": {
          "base_uri": "https://localhost:8080/"
        },
        "id": "E6Nt47nJnrtb",
        "outputId": "0f7f1710-c422-4b9d-f6b9-924bc92ef21a"
      },
      "execution_count": null,
      "outputs": [
        {
          "output_type": "execute_result",
          "data": {
            "text/plain": [
              "array([10, 11, 12, 13, 14])"
            ]
          },
          "metadata": {},
          "execution_count": 4
        }
      ]
    },
    {
      "cell_type": "code",
      "source": [
        "array_2d = np.array([[20,30,40,50,60],[43,54,65,76,87],[11,22,33,44,55]])\n",
        "print(array_2d)\n",
        "print(type(array_2d))\n",
        "print(array_2d.ndim)"
      ],
      "metadata": {
        "colab": {
          "base_uri": "https://localhost:8080/"
        },
        "id": "6Ef1vyWErNeL",
        "outputId": "26d2c00b-5648-4f4d-932b-8982f43a407d"
      },
      "execution_count": null,
      "outputs": [
        {
          "output_type": "stream",
          "name": "stdout",
          "text": [
            "[[20 30 40 50 60]\n",
            " [43 54 65 76 87]\n",
            " [11 22 33 44 55]]\n",
            "<class 'numpy.ndarray'>\n",
            "2\n"
          ]
        }
      ]
    },
    {
      "cell_type": "code",
      "source": [
        "array_3d = np.array([[[1,2,3,4,5],[11,21,31,41,51]],[[11,12,13,14,15],[51,52,53,54,5]]])\n",
        "print(array_3d)\n",
        "print(type(array_3d))\n",
        "print(array_3d.ndim)"
      ],
      "metadata": {
        "colab": {
          "base_uri": "https://localhost:8080/"
        },
        "id": "jN7WcCfZrle7",
        "outputId": "5f18987d-6092-4450-c5cb-1abb71bc1eb8"
      },
      "execution_count": null,
      "outputs": [
        {
          "output_type": "stream",
          "name": "stdout",
          "text": [
            "[[[ 1  2  3  4  5]\n",
            "  [11 21 31 41 51]]\n",
            "\n",
            " [[11 12 13 14 15]\n",
            "  [51 52 53 54  5]]]\n",
            "<class 'numpy.ndarray'>\n",
            "3\n"
          ]
        }
      ]
    },
    {
      "cell_type": "markdown",
      "source": [
        "#2. For each of the 3 arrays we defined above, do the following:\n",
        "\n",
        "A) Call the np.max() or np.amax() function and plug in the array as an input. \n"
      ],
      "metadata": {
        "id": "a9_smRqNujFs"
      }
    },
    {
      "cell_type": "code",
      "source": [
        "print(np.max(array_1d))\n",
        "print(np.max(array_2d))\n",
        "print(np.max(array_3d))"
      ],
      "metadata": {
        "colab": {
          "base_uri": "https://localhost:8080/"
        },
        "id": "0OE8n56tuUOE",
        "outputId": "dd04cffd-fddb-46ee-86c8-ce7c3bd408e2"
      },
      "execution_count": null,
      "outputs": [
        {
          "output_type": "stream",
          "name": "stdout",
          "text": [
            "14\n",
            "87\n",
            "54\n"
          ]
        }
      ]
    },
    {
      "cell_type": "code",
      "source": [
        "print(np.amax(array_1d))\n",
        "print(np.amax(array_2d))\n",
        "print(np.amax(array_3d))"
      ],
      "metadata": {
        "colab": {
          "base_uri": "https://localhost:8080/"
        },
        "id": "JAT0pcpJvdVF",
        "outputId": "1ca8c620-57fd-40e2-e31b-e97e2ce38e3c"
      },
      "execution_count": null,
      "outputs": [
        {
          "output_type": "stream",
          "name": "stdout",
          "text": [
            "14\n",
            "87\n",
            "54\n"
          ]
        }
      ]
    },
    {
      "cell_type": "markdown",
      "source": [
        "B) Call the np.max() or np.amax() function along an axis of your choice and plug in the array as an input.\n"
      ],
      "metadata": {
        "id": "2OLbHZlqwNKR"
      }
    },
    {
      "cell_type": "code",
      "source": [
        "print(np.max(array_2d, axis = 1))\n",
        "print(np.max(array_3d, axis = 1))\n"
      ],
      "metadata": {
        "colab": {
          "base_uri": "https://localhost:8080/"
        },
        "id": "1PmZvAA4vnht",
        "outputId": "ba0a2835-f2a8-4d72-ca43-ccf426394f71"
      },
      "execution_count": null,
      "outputs": [
        {
          "output_type": "stream",
          "name": "stdout",
          "text": [
            "[60 87 55]\n",
            "[[11 21 31 41 51]\n",
            " [51 52 53 54 15]]\n"
          ]
        }
      ]
    },
    {
      "cell_type": "code",
      "source": [
        "print(np.amax(array_2d, axis = 0))\n",
        "print(np.amax(array_3d, axis = 0))"
      ],
      "metadata": {
        "colab": {
          "base_uri": "https://localhost:8080/"
        },
        "id": "cTxX7jhawd-h",
        "outputId": "03a2ccbc-612a-4a0b-a4ca-cc4601673fa8"
      },
      "execution_count": null,
      "outputs": [
        {
          "output_type": "stream",
          "name": "stdout",
          "text": [
            "[43 54 65 76 87]\n",
            "[[11 12 13 14 15]\n",
            " [51 52 53 54 51]]\n"
          ]
        }
      ]
    },
    {
      "cell_type": "markdown",
      "source": [
        "C) Call the np.maximum.reduce() function and plug in the array as an input. \n"
      ],
      "metadata": {
        "id": "nWmUolF7zodr"
      }
    },
    {
      "cell_type": "code",
      "source": [
        "np.maximum.reduce(array_2d)"
      ],
      "metadata": {
        "colab": {
          "base_uri": "https://localhost:8080/"
        },
        "id": "VMRapjT8zE2Y",
        "outputId": "aa28fe17-1152-4ffd-d8fc-573389d9f98a"
      },
      "execution_count": null,
      "outputs": [
        {
          "output_type": "execute_result",
          "data": {
            "text/plain": [
              "array([43, 54, 65, 76, 87])"
            ]
          },
          "metadata": {},
          "execution_count": 11
        }
      ]
    },
    {
      "cell_type": "markdown",
      "source": [
        "#3. For each array find the difference between its maximum and minimum. Note: \n",
        "\n",
        "1.   List item\n",
        "2.   List item\n",
        "\n",
        "Use the np.ptp() function"
      ],
      "metadata": {
        "id": "vA5AGN6g1hnO"
      }
    },
    {
      "cell_type": "code",
      "source": [
        "print(np.ptp(array_1d))"
      ],
      "metadata": {
        "colab": {
          "base_uri": "https://localhost:8080/"
        },
        "id": "gh8oYAm60SYp",
        "outputId": "1a48084c-f626-4f98-962e-d0e4bdab19a8"
      },
      "execution_count": null,
      "outputs": [
        {
          "output_type": "stream",
          "name": "stdout",
          "text": [
            "4\n"
          ]
        }
      ]
    },
    {
      "cell_type": "code",
      "source": [
        "print(np.ptp(array_2d, axis = 0))"
      ],
      "metadata": {
        "colab": {
          "base_uri": "https://localhost:8080/"
        },
        "id": "op38Yu162YRr",
        "outputId": "3035076e-d008-4636-8090-a5f4b0b9f95b"
      },
      "execution_count": null,
      "outputs": [
        {
          "output_type": "stream",
          "name": "stdout",
          "text": [
            "[32 32 32 32 32]\n"
          ]
        }
      ]
    },
    {
      "cell_type": "code",
      "source": [
        "print(np.ptp(array_3d, axis = 1))"
      ],
      "metadata": {
        "colab": {
          "base_uri": "https://localhost:8080/"
        },
        "id": "GuHXLBxS2fZ5",
        "outputId": "0a2063a0-1035-474c-c753-0558d40dc717"
      },
      "execution_count": null,
      "outputs": [
        {
          "output_type": "stream",
          "name": "stdout",
          "text": [
            "[[10 19 28 37 46]\n",
            " [40 40 40 40 10]]\n"
          ]
        }
      ]
    },
    {
      "cell_type": "markdown",
      "source": [
        "#4. For the 2-D and 3-D arrays find the difference between the maximum and minimum, for every row."
      ],
      "metadata": {
        "id": "kWkV2ML22Cs2"
      }
    },
    {
      "cell_type": "code",
      "source": [
        "print(np.ptp(array_2d,axis = 1 ))\n",
        "print(array_2d.ndim)"
      ],
      "metadata": {
        "colab": {
          "base_uri": "https://localhost:8080/"
        },
        "id": "hHeYW34t1sV8",
        "outputId": "e71b0975-9d8a-40a0-eb79-4bb08ad6cf1b"
      },
      "execution_count": null,
      "outputs": [
        {
          "output_type": "stream",
          "name": "stdout",
          "text": [
            "[40 44 44]\n",
            "2\n"
          ]
        }
      ]
    },
    {
      "cell_type": "code",
      "source": [
        "print(array_3d.ndim)\n",
        "print(np.ptp(array_3d,axis = 1))\n"
      ],
      "metadata": {
        "colab": {
          "base_uri": "https://localhost:8080/"
        },
        "id": "kdXewyTr30Hp",
        "outputId": "3137c444-8119-4985-81e0-7c8bd9118941"
      },
      "execution_count": null,
      "outputs": [
        {
          "output_type": "stream",
          "name": "stdout",
          "text": [
            "3\n",
            "[[10 19 28 37 46]\n",
            " [40 40 40 40 10]]\n"
          ]
        }
      ]
    },
    {
      "cell_type": "markdown",
      "source": [
        "5. For all 3 arrays we defined, use the np.percentile() and np.quantile() functions to find the following:\n",
        "\n",
        "A) The 30-th percentile (or 0.3-th quantile). \n"
      ],
      "metadata": {
        "id": "5EA83h9_467Y"
      }
    },
    {
      "cell_type": "code",
      "source": [
        "print(np.sort(array_1d))\n",
        "print(np.sort(array_2d))\n",
        "print(np.sort(array_3d))"
      ],
      "metadata": {
        "colab": {
          "base_uri": "https://localhost:8080/"
        },
        "id": "8Bqn_fjc4ftc",
        "outputId": "93eb8327-ab9f-4a70-bca1-9fb443d1c222"
      },
      "execution_count": null,
      "outputs": [
        {
          "output_type": "stream",
          "name": "stdout",
          "text": [
            "[10 11 12 13 14]\n",
            "[[20 30 40 50 60]\n",
            " [43 54 65 76 87]\n",
            " [11 22 33 44 55]]\n",
            "[[[ 1  2  3  4  5]\n",
            "  [11 21 31 41 51]]\n",
            "\n",
            " [[11 12 13 14 15]\n",
            "  [ 5 51 52 53 54]]]\n"
          ]
        }
      ]
    },
    {
      "cell_type": "code",
      "source": [
        "print(np.percentile(array_1d, 30))\n",
        "print(np.percentile(array_2d, 30))\n",
        "print(np.percentile(array_3d, 30))"
      ],
      "metadata": {
        "colab": {
          "base_uri": "https://localhost:8080/"
        },
        "id": "8O4pxFv25xr4",
        "outputId": "375b1707-1b73-4bf7-9de1-bbe8919023b5"
      },
      "execution_count": null,
      "outputs": [
        {
          "output_type": "stream",
          "name": "stdout",
          "text": [
            "11.2\n",
            "34.4\n",
            "9.200000000000001\n"
          ]
        }
      ]
    },
    {
      "cell_type": "markdown",
      "source": [
        "B) The 66-th percentile (or 0.66-th qunatile). \n"
      ],
      "metadata": {
        "id": "-ORGAdc86wj3"
      }
    },
    {
      "cell_type": "code",
      "source": [
        "print(np.percentile(array_1d, 66))\n",
        "print(np.percentile(array_2d, 66))\n",
        "print(np.percentile(array_3d, 66))"
      ],
      "metadata": {
        "colab": {
          "base_uri": "https://localhost:8080/"
        },
        "id": "Xxa7vtIZ6mFh",
        "outputId": "e02350b2-0113-41dc-ea8a-f9b40f5b030a"
      },
      "execution_count": null,
      "outputs": [
        {
          "output_type": "stream",
          "name": "stdout",
          "text": [
            "12.64\n",
            "54.24\n",
            "26.40000000000001\n"
          ]
        }
      ]
    },
    {
      "cell_type": "markdown",
      "source": [
        "C) The median. \n"
      ],
      "metadata": {
        "id": "tvxHo_iD7A1N"
      }
    },
    {
      "cell_type": "code",
      "source": [
        "print(np.percentile(array_1d, 50))\n",
        "print(np.percentile(array_2d, 50))\n",
        "print(np.percentile(array_3d, 50))"
      ],
      "metadata": {
        "colab": {
          "base_uri": "https://localhost:8080/"
        },
        "id": "EdoRSrzJ66jM",
        "outputId": "d7c47ff3-1e1f-404f-df78-9d078e116cef"
      },
      "execution_count": null,
      "outputs": [
        {
          "output_type": "stream",
          "name": "stdout",
          "text": [
            "12.0\n",
            "44.0\n",
            "13.5\n"
          ]
        }
      ]
    },
    {
      "cell_type": "markdown",
      "source": [
        "6. For the 3 arrays:\n",
        "\n",
        "A) Find the mean.\n"
      ],
      "metadata": {
        "id": "KDxmSRyf7Ztn"
      }
    },
    {
      "cell_type": "code",
      "source": [
        "print(np.mean(array_1d))\n",
        "print(np.mean(array_2d))\n",
        "print(np.mean(array_3d))"
      ],
      "metadata": {
        "colab": {
          "base_uri": "https://localhost:8080/"
        },
        "id": "n7kM7FMU7Tv_",
        "outputId": "2e09f0bb-011e-4bb9-a31a-e8bd8938fe42"
      },
      "execution_count": null,
      "outputs": [
        {
          "output_type": "stream",
          "name": "stdout",
          "text": [
            "12.0\n",
            "46.0\n",
            "22.5\n"
          ]
        }
      ]
    },
    {
      "cell_type": "markdown",
      "source": [
        "B) Find the median.\n"
      ],
      "metadata": {
        "id": "zJLQ3Xak8erZ"
      }
    },
    {
      "cell_type": "code",
      "source": [
        "print(np.median(array_1d))\n",
        "print(np.median(array_2d))\n",
        "print(np.median(array_3d))"
      ],
      "metadata": {
        "colab": {
          "base_uri": "https://localhost:8080/"
        },
        "id": "RLvMupq-74Pm",
        "outputId": "4f7eab4f-f247-4980-9ce2-f9e07fd177c6"
      },
      "execution_count": null,
      "outputs": [
        {
          "output_type": "stream",
          "name": "stdout",
          "text": [
            "12.0\n",
            "44.0\n",
            "13.5\n"
          ]
        }
      ]
    },
    {
      "cell_type": "markdown",
      "source": [
        "C) Find the mean along the columns.\n"
      ],
      "metadata": {
        "id": "B0NQXty082j_"
      }
    },
    {
      "cell_type": "code",
      "source": [
        "print(np.mean(array_1d, axis = 0))\n",
        "print(np.mean(array_2d, axis = 0))\n",
        "print(np.mean(array_3d, axis = 0))"
      ],
      "metadata": {
        "colab": {
          "base_uri": "https://localhost:8080/"
        },
        "id": "0nfi4ZIG8u6n",
        "outputId": "3819e28b-4bae-4168-e92e-6a44cbcb3761"
      },
      "execution_count": null,
      "outputs": [
        {
          "output_type": "stream",
          "name": "stdout",
          "text": [
            "12.0\n",
            "[24.67 35.33 46.   56.67 67.33]\n",
            "[[ 6.   7.   8.   9.  10. ]\n",
            " [31.  36.5 42.  47.5 28. ]]\n"
          ]
        }
      ]
    },
    {
      "cell_type": "markdown",
      "source": [
        "7. For the 2D array:\n",
        "\n",
        "A) Find the variance. \n"
      ],
      "metadata": {
        "id": "npo8nqrq9cli"
      }
    },
    {
      "cell_type": "code",
      "source": [
        "np.var(array_2d)"
      ],
      "metadata": {
        "colab": {
          "base_uri": "https://localhost:8080/"
        },
        "id": "kV4mhAU39QYQ",
        "outputId": "38d1edcd-4b6c-4cb1-c375-e023a27d725d"
      },
      "execution_count": null,
      "outputs": [
        {
          "output_type": "execute_result",
          "data": {
            "text/plain": [
              "416.6666666666667"
            ]
          },
          "metadata": {},
          "execution_count": 24
        }
      ]
    },
    {
      "cell_type": "markdown",
      "source": [
        "B) Find the standard deviation. \n"
      ],
      "metadata": {
        "id": "mFM2vq6R9yUM"
      }
    },
    {
      "cell_type": "code",
      "source": [
        "np.std(array_2d)"
      ],
      "metadata": {
        "colab": {
          "base_uri": "https://localhost:8080/"
        },
        "id": "ywnLTH_79sVJ",
        "outputId": "06905e95-835b-46ac-8e44-951ef705f252"
      },
      "execution_count": null,
      "outputs": [
        {
          "output_type": "execute_result",
          "data": {
            "text/plain": [
              "20.412414523193153"
            ]
          },
          "metadata": {},
          "execution_count": 25
        }
      ]
    },
    {
      "cell_type": "markdown",
      "source": [
        "C) Find the covariance. \n"
      ],
      "metadata": {
        "id": "mnrAeYgN-M_H"
      }
    },
    {
      "cell_type": "code",
      "source": [
        "np.cov(array_2d)"
      ],
      "metadata": {
        "colab": {
          "base_uri": "https://localhost:8080/"
        },
        "id": "Pgk1b84X93Xe",
        "outputId": "97664066-40a9-45db-d0b1-0d266e1657ce"
      },
      "execution_count": null,
      "outputs": [
        {
          "output_type": "execute_result",
          "data": {
            "text/plain": [
              "array([[250. , 275. , 275. ],\n",
              "       [275. , 302.5, 302.5],\n",
              "       [275. , 302.5, 302.5]])"
            ]
          },
          "metadata": {},
          "execution_count": 26
        }
      ]
    },
    {
      "cell_type": "markdown",
      "source": [
        "D) Find the correlation. \n"
      ],
      "metadata": {
        "id": "wR0dUfd1-VCj"
      }
    },
    {
      "cell_type": "code",
      "source": [
        "np.corrcoef(array_2d)"
      ],
      "metadata": {
        "colab": {
          "base_uri": "https://localhost:8080/"
        },
        "id": "9AJvjotq-ShM",
        "outputId": "ccbfc80c-3f57-4729-e5df-75f064e15b60"
      },
      "execution_count": null,
      "outputs": [
        {
          "output_type": "execute_result",
          "data": {
            "text/plain": [
              "array([[1., 1., 1.],\n",
              "       [1., 1., 1.],\n",
              "       [1., 1., 1.]])"
            ]
          },
          "metadata": {},
          "execution_count": 27
        }
      ]
    },
    {
      "cell_type": "markdown",
      "source": [
        "8. For the 2D array:\n",
        "\n",
        "A) Find the \"default \"bin edges for a histogram (don't specify any arguments)"
      ],
      "metadata": {
        "id": "PcdSIvZe_EnM"
      }
    },
    {
      "cell_type": "code",
      "source": [
        "np.histogram(array_2d)"
      ],
      "metadata": {
        "colab": {
          "base_uri": "https://localhost:8080/"
        },
        "id": "yr_knY5l-j6Y",
        "outputId": "3a9b38c6-3562-4cb6-867c-87e45deeac6b"
      },
      "execution_count": null,
      "outputs": [
        {
          "output_type": "execute_result",
          "data": {
            "text/plain": [
              "(array([1, 2, 2, 1, 2, 3, 1, 1, 1, 1]),\n",
              " array([11. , 18.6, 26.2, 33.8, 41.4, 49. , 56.6, 64.2, 71.8, 79.4, 87. ]))"
            ]
          },
          "metadata": {},
          "execution_count": 28
        }
      ]
    },
    {
      "cell_type": "markdown",
      "source": [
        "B) Set the number of bins to 6"
      ],
      "metadata": {
        "id": "CbYnkPsPD5eA"
      }
    },
    {
      "cell_type": "code",
      "source": [
        "np.histogram(array_2d, bins = 6)"
      ],
      "metadata": {
        "colab": {
          "base_uri": "https://localhost:8080/"
        },
        "id": "XadesU6qAH75",
        "outputId": "e81f3884-8a62-400d-ff33-9eb36a5f8b3c"
      },
      "execution_count": null,
      "outputs": [
        {
          "output_type": "execute_result",
          "data": {
            "text/plain": [
              "(array([3, 2, 3, 4, 1, 2]),\n",
              " array([11.  , 23.67, 36.33, 49.  , 61.67, 74.33, 87.  ]))"
            ]
          },
          "metadata": {},
          "execution_count": 29
        }
      ]
    },
    {
      "cell_type": "markdown",
      "source": [
        "C) Define a range\n",
        "\n",
        "ans:-  Range is define as set of certain elements which limit by start and end point."
      ],
      "metadata": {
        "id": "A3soamWHEwgw"
      }
    },
    {
      "cell_type": "markdown",
      "source": [
        "D) With the help of the matplotlib package, plot the 3 histograms"
      ],
      "metadata": {
        "id": "o1bt0Ik5FUyW"
      }
    },
    {
      "cell_type": "code",
      "source": [
        "import matplotlib .pyplot as plt\n",
        "plt.hist(array_2d)\n",
        "plt.show()"
      ],
      "metadata": {
        "colab": {
          "base_uri": "https://localhost:8080/",
          "height": 265
        },
        "id": "rfkz8q0FER7-",
        "outputId": "a3d0ac5f-891e-4c18-f42b-25f554bec57f"
      },
      "execution_count": null,
      "outputs": [
        {
          "output_type": "display_data",
          "data": {
            "text/plain": [
              "<Figure size 432x288 with 1 Axes>"
            ],
            "image/png": "[encoded data removed]"
          },
          "metadata": {
            "needs_background": "light"
          }
        }
      ]
    },
    {
      "cell_type": "code",
      "source": [
        "plt.hist(array_2d, bins = 6)\n",
        "plt.show()"
      ],
      "metadata": {
        "colab": {
          "base_uri": "https://localhost:8080/",
          "height": 265
        },
        "id": "ERVkuqp4Frg4",
        "outputId": "4ff1a997-6386-4c29-b573-e9769bed08e5"
      },
      "execution_count": null,
      "outputs": [
        {
          "output_type": "display_data",
          "data": {
            "text/plain": [
              "<Figure size 432x288 with 1 Axes>"
            ],
            "image/png": "[encoded data removed]"
          },
          "metadata": {
            "needs_background": "light"
          }
        }
      ]
    },
    {
      "cell_type": "code",
      "source": [
        "plt.hist(array_2d.flat, bins = 6)\n",
        "plt.show\n"
      ],
      "metadata": {
        "colab": {
          "base_uri": "https://localhost:8080/",
          "height": 282
        },
        "id": "xbNB26auF57P",
        "outputId": "127b32f4-08a4-42ff-93c5-ad4764f2f8eb"
      },
      "execution_count": null,
      "outputs": [
        {
          "output_type": "execute_result",
          "data": {
            "text/plain": [
              "<function matplotlib.pyplot.show>"
            ]
          },
          "metadata": {},
          "execution_count": 32
        },
        {
          "output_type": "display_data",
          "data": {
            "text/plain": [
              "<Figure size 432x288 with 1 Axes>"
            ],
            "image/png": "[encoded data removed]"
          },
          "metadata": {
            "needs_background": "light"
          }
        }
      ]
    },
    {
      "cell_type": "markdown",
      "source": [
        "9. For the 3-D array:\n",
        "\n",
        "A) Take the first two rows, and compute their 2-D histogram, with 4 bins "
      ],
      "metadata": {
        "id": "IkAWDLPcGqTK"
      }
    },
    {
      "cell_type": "code",
      "source": [
        "plt.hist(array_3d[0],bins = 4)\n",
        "plt.show()"
      ],
      "metadata": {
        "colab": {
          "base_uri": "https://localhost:8080/",
          "height": 265
        },
        "id": "0u3z_nTCGQC3",
        "outputId": "0f54c776-42ae-42d6-c0e7-4dd5b508c171"
      },
      "execution_count": null,
      "outputs": [
        {
          "output_type": "display_data",
          "data": {
            "text/plain": [
              "<Figure size 432x288 with 1 Axes>"
            ],
            "image/png": "[encoded data removed]"
          },
          "metadata": {
            "needs_background": "light"
          }
        }
      ]
    },
    {
      "cell_type": "markdown",
      "source": [
        "B) Take the entire 2-D array and find its 3-D histogram with 4 bins."
      ],
      "metadata": {
        "id": "QWJE2LbDIHSt"
      }
    },
    {
      "cell_type": "code",
      "source": [
        "x=np.histogramdd(array_2d.transpose(), bins = 4)\n",
        "x"
      ],
      "metadata": {
        "colab": {
          "base_uri": "https://localhost:8080/"
        },
        "id": "u355EtI3HO2d",
        "outputId": "ddfa219e-5816-4eb7-91a8-f7b34eb5d7bd"
      },
      "execution_count": null,
      "outputs": [
        {
          "output_type": "execute_result",
          "data": {
            "text/plain": [
              "(array([[[1., 0., 0., 0.],\n",
              "         [0., 0., 0., 0.],\n",
              "         [0., 0., 0., 0.],\n",
              "         [0., 0., 0., 0.]],\n",
              " \n",
              "        [[0., 0., 0., 0.],\n",
              "         [0., 1., 0., 0.],\n",
              "         [0., 0., 0., 0.],\n",
              "         [0., 0., 0., 0.]],\n",
              " \n",
              "        [[0., 0., 0., 0.],\n",
              "         [0., 0., 0., 0.],\n",
              "         [0., 0., 1., 0.],\n",
              "         [0., 0., 0., 0.]],\n",
              " \n",
              "        [[0., 0., 0., 0.],\n",
              "         [0., 0., 0., 0.],\n",
              "         [0., 0., 0., 0.],\n",
              "         [0., 0., 0., 2.]]]),\n",
              " [array([20., 30., 40., 50., 60.]),\n",
              "  array([43., 54., 65., 76., 87.]),\n",
              "  array([11., 22., 33., 44., 55.])])"
            ]
          },
          "metadata": {},
          "execution_count": 34
        }
      ]
    },
    {
      "cell_type": "code",
      "source": [
        "plt.hist(x, bins = 4)\n",
        "plt.show()"
      ],
      "metadata": {
        "colab": {
          "base_uri": "https://localhost:8080/",
          "height": 354
        },
        "id": "Sd5pQ2fCHsLI",
        "outputId": "d19bebfa-74a9-4be1-bc00-3ae183d0abf2"
      },
      "execution_count": null,
      "outputs": [
        {
          "output_type": "stream",
          "name": "stderr",
          "text": [
            "/usr/local/lib/python3.7/dist-packages/numpy/core/fromnumeric.py:3208: VisibleDeprecationWarning: Creating an ndarray from ragged nested sequences (which is a list-or-tuple of lists-or-tuples-or ndarrays with different lengths or shapes) is deprecated. If you meant to do this, you must specify 'dtype=object' when creating the ndarray.\n",
            "  return asarray(a).size\n",
            "/usr/local/lib/python3.7/dist-packages/matplotlib/cbook/__init__.py:1376: VisibleDeprecationWarning: Creating an ndarray from ragged nested sequences (which is a list-or-tuple of lists-or-tuples-or ndarrays with different lengths or shapes) is deprecated. If you meant to do this, you must specify 'dtype=object' when creating the ndarray.\n",
            "  X = np.atleast_1d(X.T if isinstance(X, np.ndarray) else np.asarray(X))\n"
          ]
        },
        {
          "output_type": "display_data",
          "data": {
            "text/plain": [
              "<Figure size 432x288 with 1 Axes>"
            ],
            "image/png": "[encoded data removed]"
          },
          "metadata": {
            "needs_background": "light"
          }
        }
      ]
    },
    {
      "cell_type": "markdown",
      "source": [
        "10. Run the following cell, and then compute the following:\n",
        "\n",
        "A) The mean, using the np.mean() function."
      ],
      "metadata": {
        "id": "To2bBEMoJHmu"
      }
    },
    {
      "cell_type": "code",
      "source": [
        "np.mean(array_2d)"
      ],
      "metadata": {
        "colab": {
          "base_uri": "https://localhost:8080/"
        },
        "id": "-GewSj4nI5o_",
        "outputId": "5cd36e23-3af2-4c42-d133-3ec510f6b0fd"
      },
      "execution_count": null,
      "outputs": [
        {
          "output_type": "execute_result",
          "data": {
            "text/plain": [
              "46.0"
            ]
          },
          "metadata": {},
          "execution_count": 36
        }
      ]
    },
    {
      "cell_type": "markdown",
      "source": [
        "B) The mean, using the np.nanmean() function."
      ],
      "metadata": {
        "id": "1Z-9_GZ3JZPH"
      }
    },
    {
      "cell_type": "code",
      "source": [
        "np.nanmean(array_2d)"
      ],
      "metadata": {
        "colab": {
          "base_uri": "https://localhost:8080/"
        },
        "id": "_LpEER2KJVen",
        "outputId": "133d56f0-551a-499d-fba1-5152e69dad62"
      },
      "execution_count": null,
      "outputs": [
        {
          "output_type": "execute_result",
          "data": {
            "text/plain": [
              "46.0"
            ]
          },
          "metadata": {},
          "execution_count": 37
        }
      ]
    },
    {
      "cell_type": "markdown",
      "source": [
        "C) The variance, using the np.var() function."
      ],
      "metadata": {
        "id": "YuFBOrQcJmyv"
      }
    },
    {
      "cell_type": "code",
      "source": [
        "np.var(array_3d)"
      ],
      "metadata": {
        "colab": {
          "base_uri": "https://localhost:8080/"
        },
        "id": "QHGWrRnHJfwn",
        "outputId": "d7b9dd2b-8a55-4891-fa6d-81f780074cca"
      },
      "execution_count": null,
      "outputs": [
        {
          "output_type": "execute_result",
          "data": {
            "text/plain": [
              "382.25"
            ]
          },
          "metadata": {},
          "execution_count": 38
        }
      ]
    },
    {
      "cell_type": "markdown",
      "source": [
        "D) The variance, using the np.nanvar() funcion."
      ],
      "metadata": {
        "id": "oDARPbjwJtj3"
      }
    },
    {
      "cell_type": "code",
      "source": [
        "np.nanvar(array_3d)"
      ],
      "metadata": {
        "colab": {
          "base_uri": "https://localhost:8080/"
        },
        "id": "DWTNB8DZJqfW",
        "outputId": "33a03ba8-573e-4211-94a3-2d31a3243b7c"
      },
      "execution_count": null,
      "outputs": [
        {
          "output_type": "execute_result",
          "data": {
            "text/plain": [
              "382.25"
            ]
          },
          "metadata": {},
          "execution_count": 39
        }
      ]
    },
    {
      "cell_type": "markdown",
      "source": [
        "**THANKING YOU**\n",
        "\n",
        "\n",
        "\n",
        "\n",
        "\n"
      ],
      "metadata": {
        "id": "oPLNSOVgJz74"
      }
    }
  ]
}